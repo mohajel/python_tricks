{
 "cells": [
  {
   "cell_type": "markdown",
   "metadata": {},
   "source": [
    "    In the Name of God\n",
    "\n",
    "\n",
    "exploring some features of python!\n"
   ]
  },
  {
   "cell_type": "markdown",
   "metadata": {},
   "source": [
    "    assert:\n",
    "\n",
    "The assert keyword is used when debugging code.\n",
    "\n",
    "The assert keyword lets you test if a condition in your code returns True, if not, the program will raise an AssertionError.\n",
    "\n",
    "You can write a message to be written if the code returns False, check the example below."
   ]
  },
  {
   "cell_type": "code",
   "execution_count": 10,
   "metadata": {},
   "outputs": [
    {
     "ename": "AssertionError",
     "evalue": "price is negetive",
     "output_type": "error",
     "traceback": [
      "\u001b[1;31m---------------------------------------------------------------------------\u001b[0m",
      "\u001b[1;31mAssertionError\u001b[0m                            Traceback (most recent call last)",
      "Cell \u001b[1;32mIn [10], line 6\u001b[0m\n\u001b[0;32m      4\u001b[0m price : \u001b[38;5;28mint\u001b[39m \u001b[38;5;241m=\u001b[39m \u001b[38;5;241m-\u001b[39m\u001b[38;5;241m12\u001b[39m\n\u001b[0;32m      5\u001b[0m \u001b[38;5;66;03m#if condition returns False, AssertionError is raised:\u001b[39;00m\n\u001b[1;32m----> 6\u001b[0m \u001b[38;5;28;01massert\u001b[39;00m is_positive(\u001b[38;5;241m-\u001b[39m\u001b[38;5;241m12\u001b[39m), \u001b[38;5;124m\"\u001b[39m\u001b[38;5;124mprice is negetive\u001b[39m\u001b[38;5;124m\"\u001b[39m\n",
      "\u001b[1;31mAssertionError\u001b[0m: price is negetive"
     ]
    }
   ],
   "source": [
    "def is_positive(number : int) -> bool:\n",
    "    return number > 0 \n",
    "\n",
    "price : int = -12\n",
    "#if condition returns False, AssertionError is raised:\n",
    "assert is_positive(-12), \"price is negetive\""
   ]
  },
  {
   "cell_type": "markdown",
   "metadata": {},
   "source": [
    "    list:"
   ]
  },
  {
   "cell_type": "code",
   "execution_count": null,
   "metadata": {},
   "outputs": [
    {
     "name": "stdout",
     "output_type": "stream",
     "text": [
      "goli\n",
      "ali\n",
      "sara\n",
      "goli\n",
      "gholam\n"
     ]
    }
   ],
   "source": [
    "names_list = [\n",
    "    \"ali\",\n",
    "    \"sara\",\n",
    "    \"goli\",\n",
    "    \"gholam\", #adding , is good idea and prevents future regrets!\n",
    "]\n",
    "\n",
    "print(names_list[-2]) #from end\n",
    "\n",
    "len(names_list)\n",
    "\n",
    "for name in names_list:\n",
    "    print(name)"
   ]
  },
  {
   "cell_type": "markdown",
   "metadata": {},
   "source": [
    "    with:\n",
    "with statement in Python is used in exception handling to make the code cleaner and much more readable. It simplifies the management of common resources like file streams"
   ]
  },
  {
   "cell_type": "code",
   "execution_count": null,
   "metadata": {},
   "outputs": [],
   "source": [
    "# using with statement\n",
    "with open('file_path', 'w') as file:\n",
    "    file.write('hello world !')\n",
    "\n",
    "# a simple file writer object for user defined classes\n",
    "  \n",
    "class MessageWriter(object):\n",
    "    def __init__(self, file_name) -> None:\n",
    "        self.file_name = file_name\n",
    "      \n",
    "    def __enter__(self) -> None:\n",
    "        self.file = open(self.file_name, 'w')\n",
    "        return self.file\n",
    "  \n",
    "    def __exit__(self, exc_type, exc_val, exc_tb) -> None:\n",
    "        self.file.close()\n",
    "  \n",
    "# using with statement with MessageWriter\n",
    "  \n",
    "with MessageWriter('my_file.txt') as xfile:\n",
    "    xfile.write('hello world')"
   ]
  },
  {
   "cell_type": "markdown",
   "metadata": {},
   "source": [
    "    private method/var in python:\n",
    "using: __name"
   ]
  },
  {
   "cell_type": "code",
   "execution_count": null,
   "metadata": {},
   "outputs": [
    {
     "name": "stdout",
     "output_type": "stream",
     "text": [
      "very public\n",
      "this is public fun\n",
      "this is private fun\n",
      "salam this is private\n"
     ]
    }
   ],
   "source": [
    "class MyClass:\n",
    "    def __init__(self) -> None:\n",
    "        self.__private_var = \"salam this is private\"\n",
    "        self._private_can_used_outside = \"private_can_used_outside\"\n",
    "        self.public_var = \"very public\"\n",
    "\n",
    "    def __private_fun(self) -> None:\n",
    "        print(\"this is private fun\")\n",
    "\n",
    "    def pub_fun(self) -> None:\n",
    "        print(\"this is public fun\")\n",
    "\n",
    "x = MyClass()\n",
    "\n",
    "\n",
    "print(x.public_var)\n",
    "x.pub_fun()\n",
    "\n",
    "#name mangling in order to call private from outside!\n",
    "x._MyClass__private_fun()\n",
    "print(x._MyClass__private_var)"
   ]
  },
  {
   "cell_type": "markdown",
   "metadata": {},
   "source": [
    "    string formatting:"
   ]
  },
  {
   "cell_type": "code",
   "execution_count": null,
   "metadata": {},
   "outputs": [
    {
     "name": "stdout",
     "output_type": "stream",
     "text": [
      "....0b10010111100....salam...[1, 2, 'janam bash', True]\n"
     ]
    }
   ],
   "source": [
    "x = 1212\n",
    "y =  \"salam\"\n",
    "z = [1,2,\"janam bash\", True]\n",
    "\n",
    "print(f'....{x:#b}....{y}...{z}')"
   ]
  },
  {
   "cell_type": "markdown",
   "metadata": {},
   "source": [
    "    is vs ==:\n"
   ]
  },
  {
   "cell_type": "code",
   "execution_count": null,
   "metadata": {},
   "outputs": [
    {
     "name": "stdout",
     "output_type": "stream",
     "text": [
      "[4, 2, 3]\n",
      "[4, 2, 3]\n",
      "True\n",
      "True\n",
      "c == a is True \t c is a is False\n"
     ]
    }
   ],
   "source": [
    "a = [1, 2, 3] # a is a pointer that points there\n",
    "b = a # b is a pointer that points there too\n",
    "b[0] = 4\n",
    "print(b)\n",
    "print(a) # now a changed too very obvious indeed!\n",
    "\n",
    "# because a and b have \"same content\" , a and b are equal\n",
    "print(a == b)\n",
    "\n",
    "# because a and b point to \"same place\" , a and b are identical\n",
    "print(a is b)\n",
    "\n",
    "c = [4 ,2 ,3]\n",
    "\n",
    "print(f'c == a is {c == a} \\t c is a is {c is a}')"
   ]
  },
  {
   "cell_type": "markdown",
   "metadata": {},
   "source": [
    "    __repr__:\n",
    "defining print method for class"
   ]
  },
  {
   "cell_type": "code",
   "execution_count": 11,
   "metadata": {},
   "outputs": [
    {
     "name": "stdout",
     "output_type": "stream",
     "text": [
      "Car(name:'peykan', speed:130 km/h)\n"
     ]
    }
   ],
   "source": [
    "class Car:\n",
    "    def __init__(self, name : str, speed : int) -> None:\n",
    "        self.__name = name\n",
    "        self.__speed = speed\n",
    "\n",
    "    def __repr__(self) -> str:\n",
    "        return (f'{self.__class__.__name__}(name:{self.__name!r}, speed:{self.__speed!r} km/h)')\n",
    "\n",
    "my_favorite_car = Car(\"peykan\", 130)\n",
    "\n",
    "print(my_favorite_car)     "
   ]
  },
  {
   "cell_type": "markdown",
   "metadata": {},
   "source": [
    "    easier to ask forgiveness than permission!\n",
    "    "
   ]
  },
  {
   "cell_type": "code",
   "execution_count": 76,
   "metadata": {},
   "outputs": [
    {
     "name": "stdout",
     "output_type": "stream",
     "text": [
      "('SMALL_INPUT', 'hi', 12)\n",
      "now handling them ... :)\n"
     ]
    }
   ],
   "source": [
    "DEBUG_MODE:bool = True\n",
    "\n",
    "def handle_small_input(type, input, size):\n",
    "    print(f'now handling them ... :)')\n",
    "\n",
    "try:\n",
    "    # 12/0\n",
    "    raise Exception(\"SMALL_INPUT\", \"hi\", 12)\n",
    "\n",
    "except Exception as ex:\n",
    "    if DEBUG_MODE: print(ex)\n",
    "    exp_info = ex.args; \n",
    "    exp_type = exp_info[0]\n",
    "\n",
    "    if exp_type == \"SMALL_INPUT\":\n",
    "        handle_small_input(*exp_info)\n",
    "\n"
   ]
  },
  {
   "cell_type": "code",
   "execution_count": null,
   "metadata": {},
   "outputs": [],
   "source": []
  }
 ],
 "metadata": {
  "kernelspec": {
   "display_name": "Python 3.10.7 64-bit (microsoft store)",
   "language": "python",
   "name": "python3"
  },
  "language_info": {
   "codemirror_mode": {
    "name": "ipython",
    "version": 3
   },
   "file_extension": ".py",
   "mimetype": "text/x-python",
   "name": "python",
   "nbconvert_exporter": "python",
   "pygments_lexer": "ipython3",
   "version": "3.10.7"
  },
  "orig_nbformat": 2,
  "vscode": {
   "interpreter": {
    "hash": "5cd24f3666a909df8d28068de54f665760708a3b96be235b4e2017bd96b8e9e1"
   }
  }
 },
 "nbformat": 4,
 "nbformat_minor": 2
}
